{
  "nbformat": 4,
  "nbformat_minor": 0,
  "metadata": {
    "colab": {
      "provenance": [],
      "authorship_tag": "ABX9TyOelieHUtCWDaquDpPeae7U",
      "include_colab_link": true
    },
    "kernelspec": {
      "name": "python3",
      "display_name": "Python 3"
    },
    "language_info": {
      "name": "python"
    }
  },
  "cells": [
    {
      "cell_type": "markdown",
      "metadata": {
        "id": "view-in-github",
        "colab_type": "text"
      },
      "source": [
        "<a href=\"https://colab.research.google.com/github/DanielCMD21/Tareas-IA-y-RN/blob/main/A2_Ejercicios%20de%20Python.ipynb\" target=\"_parent\"><img src=\"https://colab.research.google.com/assets/colab-badge.svg\" alt=\"Open In Colab\"/></a>"
      ]
    },
    {
      "cell_type": "markdown",
      "source": [
        "A2: Ejercicios en Python. \n",
        "Cesar Daniel Cruz Maldonado 1970485 N1"
      ],
      "metadata": {
        "id": "2KGyC5O2f1TL"
      }
    },
    {
      "cell_type": "code",
      "execution_count": null,
      "metadata": {
        "id": "MEKt0V9ndzaC"
      },
      "outputs": [],
      "source": [
        "#Desarrolla un algoritmo que le pida al usuario por su nombre y que lo salude con su nombre, excepto si se llama “Ana”, “Juan”, y “Pedro”.\n",
        "name= input(\"nombre: \")\n",
        "\n",
        "if (name != \"Ana\") and (name != \"Pedro\") and (name != \"Juan\"):\n",
        "    print(\"Hola que tal \" + name)"
      ]
    },
    {
      "cell_type": "code",
      "source": [
        "#Desarrolla un algoritmo que por medio de una función, le pida al usuario una lista de N elementos y como resultado invierta el sentido de la lista. \n",
        "def my_function(lista):\n",
        "    invert= list(reversed(lista))\n",
        "    print(invert)\n",
        "\n",
        "lista =[]\n",
        "n= int(input(\"Ingrese la cantidad de elementos de la lista deseada: \"))\n",
        "for i in range(n):\n",
        "    lista.append(input(\"Ingrese elemento de la lista: \"))\n",
        "my_function(lista)"
      ],
      "metadata": {
        "id": "BUpMYC62d7oy"
      },
      "execution_count": null,
      "outputs": []
    },
    {
      "cell_type": "code",
      "source": [
        "#Desarrolla un algoritmo que le pregunte al usuario cuántos números de la serie de Fibonnaci quiere generar y que al final los imprima. \n",
        "n= int(input(\"Cantidad de números a generar de la  serie Fibonacci: \" ))\n",
        "x=1\n",
        "y=0\n",
        "z=1\n",
        "while x <= n:\n",
        "  if x%2==1:\n",
        "    print (y)\n",
        "    y=y+z\n",
        "  else:\n",
        "    print (z)\n",
        "    z=z+y\n",
        "  x=x+1"
      ],
      "metadata": {
        "id": "NaFL4FdNeLu4"
      },
      "execution_count": null,
      "outputs": []
    }
  ]
}